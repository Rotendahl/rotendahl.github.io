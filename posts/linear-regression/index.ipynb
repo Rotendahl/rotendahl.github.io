{
  "cells": [
    {
      "cell_type": "raw",
      "metadata": {},
      "source": [
        "---\n",
        "title: \"Linear Regression in Julia\"\n",
        "author: \"Benjamin Rotendahl\"\n",
        "date: 2023-02-25\n",
        "format:\n",
        "  html:\n",
        "    toc: true\n",
        "    number-sections: true\n",
        "    anchor-sections: true\n",
        "    smooth-scroll: true\n",
        "    link-external-icon: true\n",
        "code-fold: true\n",
        "code-line-numbers: true\n",
        "---"
      ],
      "id": "65bd8d72"
    },
    {
      "cell_type": "markdown",
      "metadata": {},
      "source": [
        "# Introduction\n",
        "The goal of this post is to learn some math and some [Julia](https://julialang.org).\n",
        "We will accomplish this be implementing a linear regression model from scratch\n",
        "for data in arbitrary dimensions.\n",
        "\n",
        ":::{.callout-note}\n",
        "This post formed the basis for a talk I gave targeting first year university\n",
        "students and assumes rudimentary knowledge of programming and high school level\n",
        "calculus.\n",
        ":::\n",
        "\n",
        "# The problem\n",
        "The basic problem of linear regression is to fit a linear model to a set of points.\n",
        "In the two dimensional we can write the linear model as\n",
        "$$\n",
        "  y = ax + b\n",
        "$$\n",
        "where $a$ is the slope and $b$ is the intercept. The goal of linear regression is\n",
        "to find values for $a$ and $b$ such that the line fits the data as well as possible.\n",
        "Looking at the 2 dimensional plot in @fig-scatter we can eyeball that the\n",
        "intercept is around $5$ and the slope is around $2$. Our goal is to find exact\n",
        "values for these parameters systematically and extend this to arbitrary dimensions.\n",
        "Before we can do this we need to answer the following questions:\n",
        "* What is a line in higher dimensions?\n",
        "* How is the _best_ line defined?\n",
        "* How do we find it?\n",
        "\n",
        "We'll look at these questions in the following sections, both the math and the\n",
        "code for it\n",
        "\n",
        "## Defining a line\n",
        "\n",
        "<!-- Rewrite this and is the hyperplane formula used later? -->\n",
        "Given a set of data points $x \\in \\mathbb{R}^n$ the goal of linear regression is\n",
        "to find an [affine hyperplane][hyper], that matches the data. A hyperplane is\n",
        "defined as the subspace of dimension $n-1$ that divides the space into two parts.\n",
        "I.e a line splits the two dimensional space into two parts, just as a plane splits\n",
        "the three dimensional space into two parts.\n",
        "For the general case an affine hyperplane is defined as:\n",
        "$$\n",
        "  w_1 x_1 + w_2 x_2 + \\dots + w_n x_n = b\n",
        "$$\n",
        "\n",
        "For the familiar $y = ax + b$ from two dimensions we can set $w = [-a, -1, b]$  to\n",
        "get the form above. The benefit of the form above is that we can treat the entire\n",
        "sum as the dot product of two vectors. By doing this we dip our toes into linear\n",
        "algebra. Our paramters $W$ is in $\\mathbb{R}^{n+1$}$ and out data points are in\n",
        "$\\mathbb{R}^{n}$, to be able to do the dot product we use a common trick and a\n",
        "dummy value $x_0 = 1$ that matches the bias term $b$ in the hyperplane.\n",
        "$$\n",
        "  W \\cdot X = 0\n",
        "$$\n",
        "\n",
        "This works for any number of dimensions, but for the rest of this post we will\n",
        "focus on the two dimensional case for simplicity.\n",
        "\n",
        "\n",
        "### Generating data\n",
        "The next step is to generate data to fit, we do this in the general case such\n",
        "that we can test our implementation in arbitrary dimensions. Our data will be\n",
        "a list of data points[^notation] $X \\in \\mathcal{R}^n$\n",
        "$$\n",
        "  \\mathcal{D} = \\{ X_1, X_2, \\dots,  X_n\\}\n",
        "$$\n",
        "This can be viewed as a matrix where each row is a data point and each column is\n",
        "a dimension leaving us with our data matrix $\\mathbf{X}$ with dimensions $n \\times d$.\n",
        "\n",
        "To generate data to later fit we first decide on which hyperplane we'll later try\n",
        "to approximate. We then sample random points from the space some gaussian\n",
        "noise to the output. Our data generation function is parametrized by\n",
        "except that $\\mu=0$ so only the standard deviation $\\sigma$ is needed.\n",
        "\n",
        "* $n$ the number of data points to generate.\n",
        "* $w$ the true hyperplane that we will later fit.\n",
        "* $\\sigma$ the standard deviation of the gaussian noise.\n",
        "and returns a matrix consisting of the data points.\n",
        "\n",
        "\n",
        "##### Implementing the data generation function\n",
        "Instead of samlpling systematically along a mesh we will sample randomly from\n",
        "the space of input points in the range $[-50, 50]$.\n"
      ],
      "id": "0d2eb6b8"
    },
    {
      "cell_type": "code",
      "metadata": {},
      "source": [
        "#| label: data-generator\n",
        "#| code-fold: false\n",
        "#| fig-cap: Code to generate points along an arbitrary hyperplane.\n",
        "\n",
        "using Distributions, Plots, Random\n",
        "\n",
        "function GenerateData(θ, n=100, σ=5)\n",
        "  points = rand(Uniform(-50, 50), (n, length(θ)))        # <1>\n",
        "  points[:, 1] .= 1                              # <2>\n",
        "  ys = points * θ                                        # <3>\n",
        "  ys += rand(Normal(0, σ), size(ys))             # <4>\n",
        "  (points, ys)\n",
        "end;"
      ],
      "id": "data-generator",
      "execution_count": null,
      "outputs": []
    },
    {
      "cell_type": "markdown",
      "metadata": {},
      "source": [
        "1. From a uniform distribution with range $[-50, 50]$ sample $n$ points in same\n",
        " dimension as the hyperplane $\\theta$, giving us one more dimension than the\n",
        " datapoints require.\n",
        "2. Set the _extra_ dimension to $1$ to match the bias term in $\\theta$\n",
        "3. Compute the dotproduct of the points and $\\theta$, use the extra dimension to store the output values.\n",
        "4. Add gaussian noise to the output values with mean $0$ and standard deviation $\\sigma$.\n",
        "\n",
        "::: {.panel-tabset}\n",
        "## $x \\in \\mathbb{R}^2 \\quad \\sigma = 5$"
      ],
      "id": "03e91dc6"
    },
    {
      "cell_type": "code",
      "metadata": {},
      "source": [
        "#| label: fig-scatter\n",
        "#| fig-cap: A scatter plot of the generated data.\n",
        "plotly()\n",
        "θ = [2, 5]\n",
        "(xs, ys) = GenerateData(θ)\n",
        "scatter(xs[:, 2], ys, label=nothing)"
      ],
      "id": "fig-scatter",
      "execution_count": null,
      "outputs": []
    },
    {
      "cell_type": "markdown",
      "metadata": {},
      "source": [
        "## $x \\in \\mathbb{R}^2 \\quad \\sigma = 2$"
      ],
      "id": "71a8e0b7"
    },
    {
      "cell_type": "code",
      "metadata": {},
      "source": [
        "θ = [2, 5]\n",
        "(xs, ys) = GenerateData(θ, 50, 2)\n",
        "scatter(xs[:, 2], ys, label=nothing)"
      ],
      "id": "1db88aa3",
      "execution_count": null,
      "outputs": []
    },
    {
      "cell_type": "markdown",
      "metadata": {},
      "source": [
        "## $x \\in \\mathbb{R}^3$"
      ],
      "id": "ac6b5661"
    },
    {
      "cell_type": "code",
      "metadata": {},
      "source": [
        "t = [3, 6, -2]\n",
        "(xs1, ys1) = GenerateData(t)\n",
        "scatter(xs1[:, 2], xs1[:, 3], ys1, label=nothing)"
      ],
      "id": "df4420f4",
      "execution_count": null,
      "outputs": []
    },
    {
      "cell_type": "markdown",
      "metadata": {},
      "source": [
        ":::\n",
        "\n",
        "As seen we are able to generate data along an arbitrary hyperplane in arbitrary\n",
        "dimensions. The next step is to find the correct hyperplane given the data.\n",
        "\n",
        "<!-- below -->\n",
        "\n",
        "## Fitting the line.\n",
        "\n",
        "The first step in finding the correct line is to define what _correct_ means.\n",
        "To quantify the correctness/wrongness of a line we define an error function\n",
        "$E(\\theta, \\mathbf{X})$ that given parameters $\\theta$ and data $\\mathbf{X}$ will\n",
        "score how good the line is. For a line to be good it must place as many points\n",
        "on the line as possible.\n",
        "$$\n",
        "  E(\\theta, \\mathbf{X}) = \\sum_{x \\in \\mathbf{X}}  \\left (f(\\theta, x) - \\hat{y} \\right)^2 \\frac{1}{n}\n",
        "$$\n",
        "The reason we square the residuals is to make sure that the error is always\n",
        "positive, this could have made it easier to intepret the residuals but makes it\n",
        "harder to compute the gradient of the error function.\n",
        "\n",
        "To visualize the error function we can plot it as a function of the slope and the\n",
        "intercept in two dimensions. We create some data with noise for a line with slope\n",
        "$2$ and intercept $5$ and plot the error function in @fig-error-function.\n"
      ],
      "id": "88d70f34"
    },
    {
      "cell_type": "code",
      "metadata": {},
      "source": [
        "using Plots; pythonplot();\n",
        "function Error(θ, xs, ys)\n",
        "  sum((xs * θ .- ys) .^ 2) / length(xs)\n",
        "end;\n",
        "\n",
        "θ = [2, 5]\n",
        "(data, dataY) = GenerateData(θ, 50, 2)\n",
        "\n",
        "xs = range(-10, 10, length=10)\n",
        "ys = range(-10, 10, length=10)\n",
        "\n",
        "zs = ones(Float64, length(xs), length(ys))\n",
        "\n",
        "# for i in range(1, length=length(xs))\n",
        "#   for j in range(1, length=length(ys))\n",
        "#     zs[i, j] = Error([xs[i], ys[j]], data, dataY)\n",
        "#   end\n",
        "# end\n",
        "zs\n",
        "\n",
        "# contour(xs, ys, zs, fill=true)"
      ],
      "id": "1c44553d",
      "execution_count": null,
      "outputs": []
    },
    {
      "cell_type": "markdown",
      "metadata": {},
      "source": [
        "<!-- Refs  -->\n",
        "[hyper]: https://en.wikipedia.org/wiki/Hyperplane#Affine_hyperplanes\n",
        "[^notation]: Capital $X_1$ refers to the first data point and $x_1$ refers to\n",
        "the first value of it's vector."
      ],
      "id": "ba52c710"
    }
  ],
  "metadata": {
    "kernelspec": {
      "name": "julia-1.9",
      "language": "julia",
      "display_name": "Julia 1.9.4"
    }
  },
  "nbformat": 4,
  "nbformat_minor": 5
}